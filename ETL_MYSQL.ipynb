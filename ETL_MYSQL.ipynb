{
 "cells": [
  {
   "cell_type": "code",
   "execution_count": 49,
   "id": "3f511e6d-2a4f-4e94-b91b-0948d565c5c2",
   "metadata": {},
   "outputs": [
    {
     "name": "stdout",
     "output_type": "stream",
     "text": [
      "✅ Data loaded into MySQL successfully.\n"
     ]
    }
   ],
   "source": [
    "import json\n",
    "import mysql.connector\n",
    "from datetime import datetime\n",
    "\n",
    "# Load data from JSON file\n",
    "with open('C:\\\\Users\\\\hp\\\\Downloads\\\\Sales_data.json', 'r') as file:\n",
    "    sales_data = json.load(file)\n",
    "\n",
    "# Connect to MySQL\n",
    "con = mysql.connector.connect(\n",
    "    host='localhost',\n",
    "    user='root',\n",
    "    password='Santhu1@',\n",
    "    database='sales_db'\n",
    ")\n",
    "cursor = con.cursor()\n",
    "er_id = sale['Order ID']\n",
    "    time\n",
    "# Insert data into the table\n",
    "for sale in sales_data:\n",
    "    ordstamp = datetime.strptime(sale['Timestamp'], '%m/%d/%Y')\n",
    "    product = sale['Product']\n",
    "    quantity = sale['Quantity']\n",
    "    price = sale['Price']\n",
    "    region = sale['Customer Region']\n",
    "    payment_method = sale['Payment Mathod']\n",
    "\n",
    "    query = \"\"\"\n",
    "    INSERT INTO sales (order_id, timestamp, product, quantity, price, customer_region, payment_method)\n",
    "    VALUES (%s, %s, %s, %s, %s, %s, %s)\n",
    "    ON DUPLICATE KEY UPDATE\n",
    "        timestamp=VALUES(timestamp),\n",
    "        product=VALUES(product),\n",
    "        quantity=VALUES(quantity),\n",
    "        price=VALUES(price),\n",
    "        customer_region=VALUES(customer_region),\n",
    "        payment_method=VALUES(payment_method)\n",
    "    \"\"\"\n",
    "    values = (order_id, timestamp, product, quantity, price, region, payment_method)\n",
    "    cursor.execute(query, values)\n",
    "\n",
    "# Commit and close\n",
    "con.commit()\n",
    "cursor.close()\n",
    "con.close()\n",
    "\n",
    "print(\"✅ Data loaded into MySQL successfully.\")\n"
   ]
  },
  {
   "cell_type": "code",
   "execution_count": null,
   "id": "a2270c5a-5a9e-4936-9163-c3f05567bbce",
   "metadata": {},
   "outputs": [],
   "source": []
  },
  {
   "cell_type": "code",
   "execution_count": null,
   "id": "22a1751a-3e97-43db-ace0-07de5678f588",
   "metadata": {},
   "outputs": [],
   "source": []
  }
 ],
 "metadata": {
  "kernelspec": {
   "display_name": "Python [conda env:base] *",
   "language": "python",
   "name": "conda-base-py"
  },
  "language_info": {
   "codemirror_mode": {
    "name": "ipython",
    "version": 3
   },
   "file_extension": ".py",
   "mimetype": "text/x-python",
   "name": "python",
   "nbconvert_exporter": "python",
   "pygments_lexer": "ipython3",
   "version": "3.12.7"
  }
 },
 "nbformat": 4,
 "nbformat_minor": 5
}
